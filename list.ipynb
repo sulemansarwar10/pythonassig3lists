{
 "cells": [
  {
   "cell_type": "markdown",
   "metadata": {},
   "source": [
    "##Roll#  PIAIC59391"
   ]
  },
  {
   "cell_type": "markdown",
   "metadata": {},
   "source": [
    " Exercise 3-1: Names\n",
    " ● Task: Store the names of a few of your friends in a list called names. Print each person’s\n",
    " name by accessing each element in the list, one at a time."
   ]
  },
  {
   "cell_type": "code",
   "execution_count": 90,
   "metadata": {},
   "outputs": [
    {
     "name": "stdout",
     "output_type": "stream",
     "text": [
      "farooq\n",
      "shehroz\n",
      "sufyan\n",
      "awaise\n"
     ]
    }
   ],
   "source": [
    "names:list=[\"farooq\",\"shehroz\",\"sufyan\",\"awaise\"]\n",
    "print(names[0])\n",
    "print(names[1])\n",
    "print(names[2])\n",
    "print(names[3])"
   ]
  },
  {
   "cell_type": "markdown",
   "metadata": {},
   "source": [
    "Exercise 3-2: Greetings\n",
    "● Task: Start with the list you used in Exercise 3-1. Instead of just printing each person’s\n",
    "name, print a message to them. The text of each message should be the same, but each\n",
    "message should be personalized with the person’s name."
   ]
  },
  {
   "cell_type": "code",
   "execution_count": 91,
   "metadata": {},
   "outputs": [
    {
     "name": "stdout",
     "output_type": "stream",
     "text": [
      "Hello, farooq! today is very beautiful.\n",
      "Hello, shehroz! today is very beautiful.\n",
      "Hello, sufyan! today is very beautiful.\n",
      "Hello, awaise! today is very beautiful.\n"
     ]
    }
   ],
   "source": [
    "for name in names:\n",
    "    message = f\"Hello, {name}! today is very beautiful.\"\n",
    "    print(message)"
   ]
  },
  {
   "cell_type": "markdown",
   "metadata": {},
   "source": [
    "Exercise 3-3: Your Own List\n",
    "● Task: Think of your favorite mode of transportation, such as a motorcycle or a car, and\n",
    "make a list that stores several examples. Use your list to print a series of statements\n",
    "about these items, such as “I would like to own a Honda motorcycle.”"
   ]
  },
  {
   "cell_type": "code",
   "execution_count": 92,
   "metadata": {},
   "outputs": [
    {
     "name": "stdout",
     "output_type": "stream",
     "text": [
      "Hello, bike! today is very beautiful.\n",
      "Hello, car! today is very beautiful.\n",
      "Hello, cycle! today is very beautiful.\n",
      "Hello, truck! today is very beautiful.\n"
     ]
    }
   ],
   "source": [
    "transport:list=[\"bike\",\"car\",\"cycle\",\"truck\"]\n",
    "for name in transport:\n",
    "    print(f\"Hello, {name}! today is very beautiful.\")\n"
   ]
  },
  {
   "cell_type": "markdown",
   "metadata": {},
   "source": [
    "Exercise 3-4: Guest List\n",
    "● Task: If you could invite anyone, living or deceased, to dinner, who would you invite?\n",
    "Make a list that includes at least three people you’d like to invite to dinner. Then use your\n",
    "list to print a message to each person, inviting them to dinner."
   ]
  },
  {
   "cell_type": "code",
   "execution_count": 93,
   "metadata": {},
   "outputs": [
    {
     "name": "stdout",
     "output_type": "stream",
     "text": [
      "Hello, farooq! you are invited today in dinner party\n",
      "Hello, shehroz! you are invited today in dinner party\n",
      "Hello, sufyan! you are invited today in dinner party\n",
      "Hello, awaise! you are invited today in dinner party\n"
     ]
    }
   ],
   "source": [
    "guests:list=[\"farooq\",\"shehroz\",\"sufyan\",\"awaise\"]\n",
    "for name in guests:\n",
    "    print(f\"Hello, {name}! you are invited today in dinner party\")"
   ]
  },
  {
   "cell_type": "markdown",
   "metadata": {},
   "source": [
    "Exercise 3-5: Changing Guest List\n",
    "● Task: Start with your program from Exercise 3-4. Add a print() call at the end of your\n",
    "program, stating the name of the guest who can’t make it. Modify your list, replacing the name of the guest who can’t make it with the name of the new person you are inviting.\n",
    "Print a second set of invitation messages, one for each person who is still in your list."
   ]
  },
  {
   "cell_type": "code",
   "execution_count": 94,
   "metadata": {},
   "outputs": [
    {
     "name": "stdout",
     "output_type": "stream",
     "text": [
      "Hello, shehroz! you are invited today in dinner party\n",
      "Hello, sufyan! you are invited today in dinner party\n",
      "Hello, awaise! you are invited today in dinner party\n",
      "Hello, suleman! you are invited today in dinner party\n"
     ]
    }
   ],
   "source": [
    "guests.remove(\"farooq\")\n",
    "guests.append(\"suleman\")\n",
    "for name in guests:\n",
    "    print(f\"Hello, {name}! you are invited today in dinner party\")"
   ]
  },
  {
   "cell_type": "markdown",
   "metadata": {},
   "source": [
    "Exercise 3-6: More Guests\n",
    "● Task: Start with your program from Exercise 3-4 or 3-5. Add a print() call to the end\n",
    "of your program, informing people that you found a bigger table. Use insert() to add\n",
    "one new guest to the beginning of your list. Use insert() to add one new guest to the\n",
    "middle of your list. Use append() to add one new guest to the end of your list. Print a\n",
    "new set of invitation messages, one for each person in your list."
   ]
  },
  {
   "cell_type": "code",
   "execution_count": 95,
   "metadata": {},
   "outputs": [
    {
     "name": "stdout",
     "output_type": "stream",
     "text": [
      "Hello, guest1! you are invited today in dinner party\n",
      "Hello, shehroz! you are invited today in dinner party\n",
      "Hello, sufyan! you are invited today in dinner party\n",
      "Hello, guest2! you are invited today in dinner party\n",
      "Hello, awaise! you are invited today in dinner party\n",
      "Hello, suleman! you are invited today in dinner party\n",
      "Hello, guest3! you are invited today in dinner party\n"
     ]
    }
   ],
   "source": [
    "guests.insert(0,\"guest1\")\n",
    "guests.insert(len(guests)//2+1,\"guest2\")\n",
    "guests.insert(len(guests),\"guest3\")\n",
    "for name in guests:\n",
    "    print(f\"Hello, {name}! you are invited today in dinner party\")"
   ]
  },
  {
   "cell_type": "markdown",
   "metadata": {},
   "source": [
    "Exercise 3-7: Shrinking Guest List\n",
    "● Task: Start with your program from Exercise 3-6. Add a new line that prints a message\n",
    "saying that you can invite only two people for dinner. Use pop() to remove guests from\n",
    "your list one at a time until only two names remain in your list. Each time you pop a\n",
    "name from your list, print a message to that person letting them know you’re sorry you\n",
    "can’t invite them to dinner. Print a message to each of the two people still on your list,\n",
    "letting them know they’re still invited. Use del to remove the last two names from your\n",
    "list, so you have an empty list. Print your list to make sure you actually have an empty\n",
    "list at the end of your program."
   ]
  },
  {
   "cell_type": "code",
   "execution_count": 96,
   "metadata": {},
   "outputs": [
    {
     "name": "stdout",
     "output_type": "stream",
     "text": [
      "you can invite only two people for dinner\n",
      "sorry!,guest3 you are not invited to the dinner\n",
      "sorry!,suleman you are not invited to the dinner\n",
      "sorry!,awaise you are not invited to the dinner\n",
      "sorry!,guest2 you are not invited to the dinner\n",
      "sorry!,sufyan you are not invited to the dinner\n",
      "Hey!,guest1 you are still invited to the dinner\n",
      "Hey!,shehroz you are still invited to the dinner\n",
      "[]\n"
     ]
    }
   ],
   "source": [
    "\n",
    "print(\"you can invite only two people for dinner\")\n",
    "newlist:list=guests.copy()\n",
    "for name in newlist:\n",
    "    if len(guests)>2:\n",
    "        print(f\"sorry!,{guests.pop()} you are not invited to the dinner\")\n",
    "        \n",
    "    else:\n",
    "          print(f\"Hey!,{guests[0]} you are still invited to the dinner\")\n",
    "          del guests[0]\n",
    "print(guests )         "
   ]
  },
  {
   "cell_type": "markdown",
   "metadata": {},
   "source": [
    "Exercise 3-8: Seeing the World\n",
    "● Task: Think of at least five places in the world you’d like to visit. Store the locations in a\n",
    "list. Make sure the list is not in alphabetical order. Print your list in its original order. Don’t\n",
    "worry about printing the list neatly; just print it as a raw Python list. Use sorted() to\n",
    "print your list in alphabetical order without modifying the actual list. Show that your list is\n",
    "still in its original order by printing it. Use sorted() to print your list in\n",
    "reverse-alphabetical order without changing the order of the original list. Show that your\n",
    "list is still in its original order by printing it again. Use reverse() to change the order of\n",
    "your list. Print the list to show that its order has changed. Use reverse() to change the\n",
    "order of your list again. Print the list to show it’s back to its original order. Use sort() to\n",
    "change your list so it’s stored in alphabetical order. Print the list to show that its order\n",
    "has been changed. Use sort() to change your list so it’s stored in reverse-alphabetical\n",
    "order. Print the list to show that its order has changed."
   ]
  },
  {
   "cell_type": "code",
   "execution_count": 97,
   "metadata": {},
   "outputs": [
    {
     "name": "stdout",
     "output_type": "stream",
     "text": [
      "['saudia', 'america', 'Dubai', 'canada', 'london', 'china']\n",
      "sorted ['Dubai', 'america', 'canada', 'china', 'london', 'saudia']\n",
      "['saudia', 'america', 'Dubai', 'canada', 'london', 'china']\n",
      "reverse ['saudia', 'london', 'china', 'canada', 'america', 'Dubai']\n",
      "['saudia', 'america', 'Dubai', 'canada', 'london', 'china']\n",
      "['china', 'london', 'canada', 'Dubai', 'america', 'saudia']\n",
      "['saudia', 'america', 'Dubai', 'canada', 'london', 'china']\n",
      "['Dubai', 'america', 'canada', 'china', 'london', 'saudia']\n",
      "['saudia', 'london', 'china', 'canada', 'america', 'Dubai']\n"
     ]
    }
   ],
   "source": [
    "places:list=[\"saudia\",\"america\",\"Dubai\",\"canada\",\"london\",\"china\"]\n",
    "print(places)\n",
    "print(\"sorted\",sorted(places))\n",
    "print(places)\n",
    "print(\"reverse\",sorted(places,reverse=True))\n",
    "print(places)\n",
    "places.reverse()\n",
    "print(places)\n",
    "places.reverse()\n",
    "print(places)\n",
    "places.sort()\n",
    "print(places)\n",
    "places.sort(reverse=True)\n",
    "print(places)"
   ]
  },
  {
   "cell_type": "markdown",
   "metadata": {},
   "source": [
    "Exercise 3-9: Every Function\n",
    "● Task: Think of things you could store in a list. For example, you could make a list of\n",
    "mountains, rivers, countries, cities, languages, or anything else you’d like. Write a\n",
    "program that creates a list containing these items and then uses each function\n",
    "introduced in this chapter at least once."
   ]
  },
  {
   "cell_type": "code",
   "execution_count": 98,
   "metadata": {},
   "outputs": [
    {
     "name": "stdout",
     "output_type": "stream",
     "text": [
      "sorted ['faisalbad', 'gujranwala', 'gujrat', 'islamabad', 'karachi', 'lahore', 'multan', 'peshawer']\n",
      "reverse ['peshawer', 'multan', 'lahore', 'karachi', 'islamabad', 'gujrat', 'gujranwala', 'faisalbad']\n",
      "['gujrat', 'lahore', 'gujranwala', 'karachi', 'islamabad', 'multan', 'peshawer', 'faisalbad']\n",
      "['faisalbad', 'peshawer', 'multan', 'islamabad', 'karachi', 'gujranwala', 'lahore', 'gujrat']\n",
      "['faisalbad', 'gujranwala', 'gujrat', 'islamabad', 'karachi', 'lahore', 'multan', 'peshawer']\n",
      "['peshawer', 'multan', 'lahore', 'karachi', 'islamabad', 'gujrat', 'gujranwala', 'faisalbad']\n"
     ]
    }
   ],
   "source": [
    "cities:list=[\"gujrat\",\"lahore\",\"gujranwala\",\"karachi\",\"islamabad\",\"multan\",\"peshawer\",\"faisalbad\"]\n",
    "print(\"sorted\",sorted(cities))\n",
    "\n",
    "print(\"reverse\",sorted(cities,reverse=True))\n",
    "print(cities)\n",
    "cities.reverse()\n",
    "print(cities)\n",
    "cities.sort()\n",
    "print(cities)\n",
    "cities.sort(reverse=True)\n",
    "print(cities)\n"
   ]
  },
  {
   "cell_type": "markdown",
   "metadata": {},
   "source": [
    "Exercise 3-10: Intentional Error\n",
    "● Task: If you haven’t received an index error in one of your programs yet, try to make one\n",
    "happen. Change an index in one of your programs to produce an index error. Make sure\n",
    "you correct the error before closing the program."
   ]
  },
  {
   "cell_type": "code",
   "execution_count": 89,
   "metadata": {},
   "outputs": [],
   "source": [
    "# print(cities[12])"
   ]
  },
  {
   "cell_type": "markdown",
   "metadata": {},
   "source": [
    "print(cities[12])\n",
    "\n",
    "\n",
    "{\n",
    "\t\"name\": \"IndexError\",\n",
    "\t\"message\": \"list index out of range\",\n",
    "\t\"stack\": \"---------------------------------------------------------------------------\n",
    "IndexError                                Traceback (most recent call last)\n",
    "Cell In[88], line 1\n",
    "----> 1 print(cities[12])\n",
    "\n",
    "IndexError: list index out of range\"\n",
    "}"
   ]
  }
 ],
 "metadata": {
  "kernelspec": {
   "display_name": "Python 3",
   "language": "python",
   "name": "python3"
  },
  "language_info": {
   "codemirror_mode": {
    "name": "ipython",
    "version": 3
   },
   "file_extension": ".py",
   "mimetype": "text/x-python",
   "name": "python",
   "nbconvert_exporter": "python",
   "pygments_lexer": "ipython3",
   "version": "3.12.3"
  }
 },
 "nbformat": 4,
 "nbformat_minor": 2
}
